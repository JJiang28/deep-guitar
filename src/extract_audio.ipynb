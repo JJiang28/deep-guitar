{
 "cells": [
  {
   "cell_type": "code",
   "execution_count": null,
   "metadata": {},
   "outputs": [],
   "source": [
    "import librosa\n",
    "\n",
    "wf = librosa.load('./dataset_raw/Intro/Intro0.mp4')"
   ]
  }
 ],
 "metadata": {
  "kernelspec": {
   "display_name": "deep-guitar",
   "language": "python",
   "name": "python3"
  },
  "language_info": {
   "name": "python",
   "version": "3.10.4"
  },
  "orig_nbformat": 4
 },
 "nbformat": 4,
 "nbformat_minor": 2
}
